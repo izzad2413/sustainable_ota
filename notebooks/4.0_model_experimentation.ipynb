{
 "cells": [
  {
   "cell_type": "markdown",
   "metadata": {},
   "source": [
    "# 4.0 Model Experimentation\n",
    "\n",
    "[![Static Badge](https://img.shields.io/badge/Back_to_README.md-red?style=for-the-badge&logo=github&labelColor=black)](https://github.com/izzad2413/sustainable_ota)\n",
    "\n",
    "### Table of Contents\n",
    "\n",
    "- 4.1 Dataset Preparation\n",
    "- 4.2 Model Development"
   ]
  },
  {
   "cell_type": "code",
   "execution_count": 1,
   "metadata": {},
   "outputs": [],
   "source": [
    "from sklearn.model_selection import GridSearchCV, RepeatedStratifiedKFold, train_test_split\n",
    "from sklearn.metrics import accuracy_score, precision_score, recall_score, f1_score, precision_recall_curve, auc\n",
    "from imblearn.pipeline import Pipeline\n",
    "from imblearn.over_sampling import SMOTE\n",
    "from sklearn.preprocessing import StandardScaler\n",
    "from sklearn.linear_model import LogisticRegression\n",
    "from sklearn.svm import SVC\n",
    "from sklearn.ensemble import RandomForestClassifier\n",
    "from sklearn.tree import DecisionTreeClassifier\n",
    "from sklearn.neighbors import KNeighborsClassifier\n",
    "from sklearn.neural_network import MLPClassifier\n",
    "import datetime\n",
    "import pandas as pd\n",
    "import os"
   ]
  },
  {
   "cell_type": "code",
   "execution_count": 2,
   "metadata": {},
   "outputs": [],
   "source": [
    "model_data_dir = './../data/modeling/modeling_data.csv' # dataset directory\n",
    "df = pd.read_csv(model_data_dir)"
   ]
  },
  {
   "cell_type": "markdown",
   "metadata": {},
   "source": [
    "### 4.1 Dataset Preparation\n",
    "\n",
    "Based on the 3.0 feature selection experiment, it was decided that the selected 22 features will be used for model building."
   ]
  },
  {
   "cell_type": "code",
   "execution_count": 3,
   "metadata": {},
   "outputs": [],
   "source": [
    "df_22 = df[['quality_rating', 'preferred_partner', 'count_room_types',\n",
    "       'overall_reviews', 'count_reviews', 'count_topattractions',\n",
    "       'count_closestairports', 'count_groups of friends',\n",
    "       'lan_eng_proportion', 'lan_malay_proportion',\n",
    "       'average_all_closestairports_distances', 'bathroom',\n",
    "       'business_facilities', 'common_areas', 'languages_spoken',\n",
    "       'living_area', 'miscellaneous', 'outdoors', 'reception_services',\n",
    "       'safety_&_security', 'services_&_extras', 'swimming_pool','sustainable_label']]"
   ]
  },
  {
   "cell_type": "markdown",
   "metadata": {},
   "source": [
    "### 4.2 Model Development"
   ]
  },
  {
   "cell_type": "code",
   "execution_count": null,
   "metadata": {},
   "outputs": [],
   "source": [
    "def classifier_grid_search(X_train, y_train, X_test, y_test, classifier_name, param_grid, scoring=['accuracy', 'precision', 'recall', 'f1', 'roc_auc'], cv=5):\n",
    "    classifiers = {\n",
    "        'SVM': SVC(),\n",
    "        'RF': RandomForestClassifier(),\n",
    "        'DT': DecisionTreeClassifier(),\n",
    "        'KNN': KNeighborsClassifier(),\n",
    "        'MLP': MLPClassifier()\n",
    "    }\n",
    "\n",
    "    # to prevent data leakage\n",
    "    pipeline = Pipeline([\n",
    "        ('scaler', StandardScaler()),\n",
    "        ('smote', SMOTE(random_state=42)),\n",
    "        ('classifier', classifiers[classifier_name])\n",
    "    ])\n",
    "\n",
    "    cv_strategy = RepeatedStratifiedKFold(n_splits=cv, n_repeats=2, random_state=42)\n",
    "\n",
    "    grid_search = GridSearchCV(pipeline, param_grid, scoring=scoring, refit='precision', cv=cv_strategy)\n",
    "    grid_search.fit(X_train, y_train)\n",
    "\n",
    "    best_params = grid_search.best_params_\n",
    "\n",
    "    best_index = grid_search.best_index_\n",
    "    mean_scores = {scorer: grid_search.cv_results_[f'mean_test_{scorer}'][best_index] for scorer in scoring}\n",
    "\n",
    "    y_pred = grid_search.predict(X_test)\n",
    "\n",
    "    accuracy = accuracy_score(y_test, y_pred)\n",
    "    precision = precision_score(y_test, y_pred)\n",
    "    recall = recall_score(y_test, y_pred)\n",
    "    f1 = f1_score(y_test, y_pred)\n",
    "\n",
    "    precision_curve, recall_curve, _ = precision_recall_curve(y_test, y_pred)\n",
    "    pr_auc = auc(recall_curve, precision_curve)\n",
    "\n",
    "    test_scores = {\n",
    "        'accuracy': accuracy,\n",
    "        'precision': precision,\n",
    "        'recall': recall,\n",
    "        'f1': f1,\n",
    "        'pr_auc': pr_auc\n",
    "    }\n",
    "\n",
    "    return grid_search.best_estimator_, best_params, mean_scores, test_scores\n",
    "\n",
    "def save_results_to_csv(results, save_dir, file_name):\n",
    "    df = pd.DataFrame(results)\n",
    "    file_path = os.path.join(save_dir, file_name)\n",
    "    df.to_csv(file_path, index=False)\n",
    "\n",
    "# Directory to save the results\n",
    "date_today = datetime.datetime.now().strftime(\"%d-%m-%Y\")\n",
    "model_result_dir = './../data/result/'\n",
    "os.makedirs(model_result_dir, exist_ok=True)"
   ]
  }
 ],
 "metadata": {
  "kernelspec": {
   "display_name": "Python 3",
   "language": "python",
   "name": "python3"
  },
  "language_info": {
   "codemirror_mode": {
    "name": "ipython",
    "version": 3
   },
   "file_extension": ".py",
   "mimetype": "text/x-python",
   "name": "python",
   "nbconvert_exporter": "python",
   "pygments_lexer": "ipython3",
   "version": "3.11.9"
  }
 },
 "nbformat": 4,
 "nbformat_minor": 2
}
